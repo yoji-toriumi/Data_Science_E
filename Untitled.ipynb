{
 "cells": [
  {
   "cell_type": "code",
   "execution_count": 1,
   "id": "221fa6ef-f590-4ff0-bbb4-efb358a734d5",
   "metadata": {},
   "outputs": [
    {
     "name": "stdout",
     "output_type": "stream",
     "text": [
      "C:\\Users\\yojit\\Documents\\Python\\5_Python_for_Data_Science_E\n"
     ]
    }
   ],
   "source": [
    "cd C:\\Users\\yojit\\Documents\\Python\\5_Python_for_Data_Science_E"
   ]
  },
  {
   "cell_type": "code",
   "execution_count": 2,
   "id": "b1b56b7c-d3dc-43e0-a58b-fc71037c3176",
   "metadata": {
    "tags": []
   },
   "outputs": [
    {
     "name": "stdout",
     "output_type": "stream",
     "text": [
      "Reinitialized existing Git repository in C:/Users/yojit/Documents/Python/5_Python_for_Data_Science_E/.git/\n"
     ]
    }
   ],
   "source": [
    "!git init"
   ]
  },
  {
   "cell_type": "code",
   "execution_count": 8,
   "id": "24653ea4-3d1e-4f2d-ae6c-1744ad424274",
   "metadata": {},
   "outputs": [
    {
     "name": "stdout",
     "output_type": "stream",
     "text": [
      "On branch master\n",
      "Your branch is up to date with 'origin/master'.\n",
      "\n",
      "Changes not staged for commit:\n",
      "  (use \"git add <file>...\" to update what will be committed)\n",
      "  (use \"git restore <file>...\" to discard changes in working directory)\n",
      "\tmodified:   .ipynb_checkpoints/Untitled-checkpoint.ipynb\n",
      "\tmodified:   04_02_begin/.ipynb_checkpoints/04_02_begin-checkpoint.ipynb\n",
      "\tmodified:   04_02_begin/04_02_begin.ipynb\n",
      "\tmodified:   04_03_begin/.ipynb_checkpoints/04_03_begin-checkpoint.ipynb\n",
      "\tmodified:   04_03_begin/04_03_begin.ipynb\n",
      "\tmodified:   04_04_begin/.ipynb_checkpoints/04_04_begin-checkpoint.ipynb\n",
      "\tmodified:   04_04_begin/04_04_begin.ipynb\n",
      "\tmodified:   04_05_begin/.ipynb_checkpoints/04_05_begin-checkpoint.ipynb\n",
      "\tmodified:   04_05_begin/04_05_begin.ipynb\n",
      "\tmodified:   04_06_begin/.ipynb_checkpoints/04_06_begin-checkpoint.ipynb\n",
      "\tmodified:   04_06_begin/04_06_begin.ipynb\n",
      "\tmodified:   05_01_begin/.ipynb_checkpoints/05_01_begin-checkpoint.ipynb\n",
      "\tmodified:   05_01_begin/05_01_begin.ipynb\n",
      "\tmodified:   05_02_begin/05_02_begin.ipynb\n",
      "\tmodified:   05_03_begin/.ipynb_checkpoints/05_03_begin-checkpoint.ipynb\n",
      "\tmodified:   05_03_begin/05_03_begin.ipynb\n",
      "\tmodified:   05_04_begin/.ipynb_checkpoints/05_04_begin-checkpoint.ipynb\n",
      "\tmodified:   05_04_begin/05_04_begin.ipynb\n",
      "\tmodified:   05_05_begin/.ipynb_checkpoints/05_05_begin-checkpoint.ipynb\n",
      "\tmodified:   05_05_begin/05_05_begin.ipynb\n",
      "\tmodified:   05_06_begin/.ipynb_checkpoints/05_06_begin-checkpoint.ipynb\n",
      "\tmodified:   05_06_begin/05_06_begin.ipynb\n",
      "\tmodified:   Untitled.ipynb\n",
      "\n",
      "no changes added to commit (use \"git add\" and/or \"git commit -a\")\n"
     ]
    }
   ],
   "source": [
    "!git status"
   ]
  },
  {
   "cell_type": "code",
   "execution_count": 9,
   "id": "708da887-dba4-4759-8405-3fc56a224d03",
   "metadata": {},
   "outputs": [
    {
     "name": "stderr",
     "output_type": "stream",
     "text": [
      "warning: LF will be replaced by CRLF in .ipynb_checkpoints/Untitled-checkpoint.ipynb.\n",
      "The file will have its original line endings in your working directory\n",
      "warning: LF will be replaced by CRLF in 04_02_begin/.ipynb_checkpoints/04_02_begin-checkpoint.ipynb.\n",
      "The file will have its original line endings in your working directory\n",
      "warning: LF will be replaced by CRLF in 04_02_begin/04_02_begin.ipynb.\n",
      "The file will have its original line endings in your working directory\n",
      "warning: LF will be replaced by CRLF in 04_03_begin/.ipynb_checkpoints/04_03_begin-checkpoint.ipynb.\n",
      "The file will have its original line endings in your working directory\n",
      "warning: LF will be replaced by CRLF in 04_03_begin/04_03_begin.ipynb.\n",
      "The file will have its original line endings in your working directory\n",
      "warning: LF will be replaced by CRLF in 04_04_begin/.ipynb_checkpoints/04_04_begin-checkpoint.ipynb.\n",
      "The file will have its original line endings in your working directory\n",
      "warning: LF will be replaced by CRLF in 04_04_begin/04_04_begin.ipynb.\n",
      "The file will have its original line endings in your working directory\n",
      "warning: LF will be replaced by CRLF in 04_05_begin/.ipynb_checkpoints/04_05_begin-checkpoint.ipynb.\n",
      "The file will have its original line endings in your working directory\n",
      "warning: LF will be replaced by CRLF in 04_05_begin/04_05_begin.ipynb.\n",
      "The file will have its original line endings in your working directory\n",
      "warning: LF will be replaced by CRLF in 04_06_begin/.ipynb_checkpoints/04_06_begin-checkpoint.ipynb.\n",
      "The file will have its original line endings in your working directory\n",
      "warning: LF will be replaced by CRLF in 04_06_begin/04_06_begin.ipynb.\n",
      "The file will have its original line endings in your working directory\n",
      "warning: LF will be replaced by CRLF in 05_01_begin/.ipynb_checkpoints/05_01_begin-checkpoint.ipynb.\n",
      "The file will have its original line endings in your working directory\n",
      "warning: LF will be replaced by CRLF in 05_01_begin/05_01_begin.ipynb.\n",
      "The file will have its original line endings in your working directory\n",
      "warning: LF will be replaced by CRLF in 05_02_begin/05_02_begin.ipynb.\n",
      "The file will have its original line endings in your working directory\n",
      "warning: LF will be replaced by CRLF in 05_03_begin/.ipynb_checkpoints/05_03_begin-checkpoint.ipynb.\n",
      "The file will have its original line endings in your working directory\n",
      "warning: LF will be replaced by CRLF in 05_03_begin/05_03_begin.ipynb.\n",
      "The file will have its original line endings in your working directory\n",
      "warning: LF will be replaced by CRLF in 05_04_begin/.ipynb_checkpoints/05_04_begin-checkpoint.ipynb.\n",
      "The file will have its original line endings in your working directory\n",
      "warning: LF will be replaced by CRLF in 05_04_begin/05_04_begin.ipynb.\n",
      "The file will have its original line endings in your working directory\n",
      "warning: LF will be replaced by CRLF in 05_05_begin/.ipynb_checkpoints/05_05_begin-checkpoint.ipynb.\n",
      "The file will have its original line endings in your working directory\n",
      "warning: LF will be replaced by CRLF in 05_05_begin/05_05_begin.ipynb.\n",
      "The file will have its original line endings in your working directory\n",
      "warning: LF will be replaced by CRLF in 05_06_begin/.ipynb_checkpoints/05_06_begin-checkpoint.ipynb.\n",
      "The file will have its original line endings in your working directory\n",
      "warning: LF will be replaced by CRLF in 05_06_begin/05_06_begin.ipynb.\n",
      "The file will have its original line endings in your working directory\n",
      "warning: LF will be replaced by CRLF in Untitled.ipynb.\n",
      "The file will have its original line endings in your working directory\n"
     ]
    }
   ],
   "source": [
    "!git add ."
   ]
  },
  {
   "cell_type": "code",
   "execution_count": 10,
   "id": "9112db28-e9d8-4d97-9a7b-cbf27147b659",
   "metadata": {},
   "outputs": [
    {
     "name": "stdout",
     "output_type": "stream",
     "text": [
      "[master f099d72] notebook third commit\n",
      " 23 files changed, 5908 insertions(+), 1701 deletions(-)\n",
      " rewrite 04_02_begin/.ipynb_checkpoints/04_02_begin-checkpoint.ipynb (93%)\n",
      " rewrite 04_03_begin/.ipynb_checkpoints/04_03_begin-checkpoint.ipynb (94%)\n",
      " rewrite 05_05_begin/05_05_begin.ipynb (93%)\n",
      " copy 05_05_begin/05_05_begin.ipynb => 05_06_begin/.ipynb_checkpoints/05_06_begin-checkpoint.ipynb (82%)\n"
     ]
    }
   ],
   "source": [
    "!git commit -m \"notebook third commit\""
   ]
  },
  {
   "cell_type": "code",
   "execution_count": 11,
   "id": "980eb769-77e2-49c6-86fa-38bc714ee415",
   "metadata": {},
   "outputs": [
    {
     "name": "stderr",
     "output_type": "stream",
     "text": [
      "error: remote origin already exists.\n"
     ]
    }
   ],
   "source": [
    "!git remote add origin \"https://github.com/yoji-toriumi/Data_Science_E\""
   ]
  },
  {
   "cell_type": "code",
   "execution_count": 13,
   "id": "ffe91575-190c-40b4-bb8c-27fe7761fb94",
   "metadata": {},
   "outputs": [
    {
     "name": "stderr",
     "output_type": "stream",
     "text": [
      "From https://github.com/yoji-toriumi/Python_Data_Analysis\n",
      " * branch            master     -> FETCH_HEAD\n",
      "error: The following untracked working tree files would be overwritten by merge:\n",
      "\tchapter2/.ipynb_checkpoints/02_01_loops-checkpoint.ipynb\n",
      "\tchapter2/.ipynb_checkpoints/02_02_sequences-checkpoint.ipynb\n",
      "\tchapter2/.ipynb_checkpoints/02_03_dicts-checkpoint.ipynb\n",
      "\tchapter2/.ipynb_checkpoints/02_04_comprehensions-checkpoint.ipynb\n",
      "\tchapter2/.ipynb_checkpoints/02_05_advancedcontainers-checkpoint.ipynb\n",
      "\tchapter2/02_01_loops.ipynb\n",
      "\tchapter2/02_02_sequences.ipynb\n",
      "\tchapter2/02_03_dicts.ipynb\n",
      "\tchapter2/02_04_comprehensions.ipynb\n",
      "\tchapter2/02_05_advancedcontainers.ipynb\n",
      "Please move or remove them before you merge.\n",
      "Aborting\n"
     ]
    }
   ],
   "source": [
    "!git pull --allow-unrelated-histories \"https://github.com/yoji-toriumi/Data_Science_E\" master"
   ]
  },
  {
   "cell_type": "code",
   "execution_count": 12,
   "id": "da4b8b64-9c59-4e44-8293-1552415b7123",
   "metadata": {},
   "outputs": [
    {
     "name": "stdout",
     "output_type": "stream",
     "text": [
      "Branch 'master' set up to track remote branch 'master' from 'origin'.\n"
     ]
    },
    {
     "name": "stderr",
     "output_type": "stream",
     "text": [
      "To https://github.com/yoji-toriumi/Data_Science_E\n",
      "   8d96c3e..f099d72  master -> master\n"
     ]
    }
   ],
   "source": [
    "!git push -u origin master "
   ]
  },
  {
   "cell_type": "code",
   "execution_count": null,
   "id": "2d0125e6-3966-411e-a93b-90d9fc926b65",
   "metadata": {},
   "outputs": [],
   "source": [
    "!git pull <remote> master:dev"
   ]
  }
 ],
 "metadata": {
  "kernelspec": {
   "display_name": "Python 3 (ipykernel)",
   "language": "python",
   "name": "python3"
  },
  "language_info": {
   "codemirror_mode": {
    "name": "ipython",
    "version": 3
   },
   "file_extension": ".py",
   "mimetype": "text/x-python",
   "name": "python",
   "nbconvert_exporter": "python",
   "pygments_lexer": "ipython3",
   "version": "3.9.7"
  }
 },
 "nbformat": 4,
 "nbformat_minor": 5
}
