{
 "cells": [
  {
   "cell_type": "code",
   "execution_count": 1,
   "id": "221fa6ef-f590-4ff0-bbb4-efb358a734d5",
   "metadata": {},
   "outputs": [
    {
     "name": "stdout",
     "output_type": "stream",
     "text": [
      "C:\\Users\\yojit\\Documents\\Python\\5_Python_for_Data_Science_E\n"
     ]
    }
   ],
   "source": [
    "cd C:\\Users\\yojit\\Documents\\Python\\5_Python_for_Data_Science_E"
   ]
  },
  {
   "cell_type": "code",
   "execution_count": 2,
   "id": "b1b56b7c-d3dc-43e0-a58b-fc71037c3176",
   "metadata": {
    "tags": []
   },
   "outputs": [
    {
     "name": "stdout",
     "output_type": "stream",
     "text": [
      "Reinitialized existing Git repository in C:/Users/yojit/Documents/Python/5_Python_for_Data_Science_E/.git/\n"
     ]
    }
   ],
   "source": [
    "!git init"
   ]
  },
  {
   "cell_type": "code",
   "execution_count": 3,
   "id": "24653ea4-3d1e-4f2d-ae6c-1744ad424274",
   "metadata": {},
   "outputs": [
    {
     "name": "stdout",
     "output_type": "stream",
     "text": [
      "On branch master\n",
      "Your branch is up to date with 'origin/master'.\n",
      "\n",
      "Changes not staged for commit:\n",
      "  (use \"git add <file>...\" to update what will be committed)\n",
      "  (use \"git restore <file>...\" to discard changes in working directory)\n",
      "\tmodified:   02_01_begin/.ipynb_checkpoints/02_01_begin-checkpoint.ipynb\n",
      "\tmodified:   02_01_begin/02_01_begin.ipynb\n",
      "\tmodified:   02_02_begin/.ipynb_checkpoints/02_02_begin-checkpoint.ipynb\n",
      "\tmodified:   02_02_begin/02_02_begin.ipynb\n",
      "\tmodified:   02_03_begin/.ipynb_checkpoints/02_03_begin-checkpoint.ipynb\n",
      "\tmodified:   02_03_begin/02_03_begin.ipynb\n",
      "\tmodified:   02_04_begin/.ipynb_checkpoints/02_04_begin-checkpoint.ipynb\n",
      "\tmodified:   02_04_begin/02_04_begin.ipynb\n",
      "\tmodified:   02_05_begin/.ipynb_checkpoints/02_05_begin-checkpoint.ipynb\n",
      "\tmodified:   02_05_begin/02_05_begin.ipynb\n",
      "\tmodified:   04_01_begin/.ipynb_checkpoints/04_01_begin-checkpoint.ipynb\n",
      "\tmodified:   04_01_begin/04_01_begin.ipynb\n",
      "\n",
      "Untracked files:\n",
      "  (use \"git add <file>...\" to include in what will be committed)\n",
      "\t.ipynb_checkpoints/\n",
      "\t04_01_begin/.ipynb_checkpoints/piechart-checkpoint.png\n",
      "\t04_01_begin/piechart.png\n",
      "\n",
      "no changes added to commit (use \"git add\" and/or \"git commit -a\")\n"
     ]
    }
   ],
   "source": [
    "!git status"
   ]
  },
  {
   "cell_type": "code",
   "execution_count": 4,
   "id": "708da887-dba4-4759-8405-3fc56a224d03",
   "metadata": {},
   "outputs": [
    {
     "name": "stderr",
     "output_type": "stream",
     "text": [
      "warning: LF will be replaced by CRLF in 02_01_begin/.ipynb_checkpoints/02_01_begin-checkpoint.ipynb.\n",
      "The file will have its original line endings in your working directory\n",
      "warning: LF will be replaced by CRLF in 02_01_begin/02_01_begin.ipynb.\n",
      "The file will have its original line endings in your working directory\n",
      "warning: LF will be replaced by CRLF in 02_02_begin/.ipynb_checkpoints/02_02_begin-checkpoint.ipynb.\n",
      "The file will have its original line endings in your working directory\n",
      "warning: LF will be replaced by CRLF in 02_02_begin/02_02_begin.ipynb.\n",
      "The file will have its original line endings in your working directory\n",
      "warning: LF will be replaced by CRLF in 02_03_begin/.ipynb_checkpoints/02_03_begin-checkpoint.ipynb.\n",
      "The file will have its original line endings in your working directory\n",
      "warning: LF will be replaced by CRLF in 02_03_begin/02_03_begin.ipynb.\n",
      "The file will have its original line endings in your working directory\n",
      "warning: LF will be replaced by CRLF in 02_04_begin/.ipynb_checkpoints/02_04_begin-checkpoint.ipynb.\n",
      "The file will have its original line endings in your working directory\n",
      "warning: LF will be replaced by CRLF in 02_04_begin/02_04_begin.ipynb.\n",
      "The file will have its original line endings in your working directory\n",
      "warning: LF will be replaced by CRLF in 02_05_begin/.ipynb_checkpoints/02_05_begin-checkpoint.ipynb.\n",
      "The file will have its original line endings in your working directory\n",
      "warning: LF will be replaced by CRLF in 02_05_begin/02_05_begin.ipynb.\n",
      "The file will have its original line endings in your working directory\n",
      "warning: LF will be replaced by CRLF in 04_01_begin/.ipynb_checkpoints/04_01_begin-checkpoint.ipynb.\n",
      "The file will have its original line endings in your working directory\n",
      "warning: LF will be replaced by CRLF in 04_01_begin/04_01_begin.ipynb.\n",
      "The file will have its original line endings in your working directory\n",
      "warning: LF will be replaced by CRLF in .ipynb_checkpoints/Untitled-checkpoint.ipynb.\n",
      "The file will have its original line endings in your working directory\n"
     ]
    }
   ],
   "source": [
    "!git add ."
   ]
  },
  {
   "cell_type": "code",
   "execution_count": 5,
   "id": "9112db28-e9d8-4d97-9a7b-cbf27147b659",
   "metadata": {},
   "outputs": [
    {
     "name": "stdout",
     "output_type": "stream",
     "text": [
      "[master 8d96c3e] notebook second commit\n",
      " 15 files changed, 9174 insertions(+), 1245 deletions(-)\n",
      " create mode 100644 .ipynb_checkpoints/Untitled-checkpoint.ipynb\n",
      " rewrite 04_01_begin/.ipynb_checkpoints/04_01_begin-checkpoint.ipynb (94%)\n",
      " create mode 100644 04_01_begin/.ipynb_checkpoints/piechart-checkpoint.png\n",
      " create mode 100644 04_01_begin/piechart.png\n"
     ]
    }
   ],
   "source": [
    "!git commit -m \"notebook second commit\""
   ]
  },
  {
   "cell_type": "code",
   "execution_count": 6,
   "id": "980eb769-77e2-49c6-86fa-38bc714ee415",
   "metadata": {},
   "outputs": [
    {
     "name": "stderr",
     "output_type": "stream",
     "text": [
      "error: remote origin already exists.\n"
     ]
    }
   ],
   "source": [
    "!git remote add origin \"https://github.com/yoji-toriumi/Data_Science_E\""
   ]
  },
  {
   "cell_type": "code",
   "execution_count": 13,
   "id": "ffe91575-190c-40b4-bb8c-27fe7761fb94",
   "metadata": {},
   "outputs": [
    {
     "name": "stderr",
     "output_type": "stream",
     "text": [
      "From https://github.com/yoji-toriumi/Python_Data_Analysis\n",
      " * branch            master     -> FETCH_HEAD\n",
      "error: The following untracked working tree files would be overwritten by merge:\n",
      "\tchapter2/.ipynb_checkpoints/02_01_loops-checkpoint.ipynb\n",
      "\tchapter2/.ipynb_checkpoints/02_02_sequences-checkpoint.ipynb\n",
      "\tchapter2/.ipynb_checkpoints/02_03_dicts-checkpoint.ipynb\n",
      "\tchapter2/.ipynb_checkpoints/02_04_comprehensions-checkpoint.ipynb\n",
      "\tchapter2/.ipynb_checkpoints/02_05_advancedcontainers-checkpoint.ipynb\n",
      "\tchapter2/02_01_loops.ipynb\n",
      "\tchapter2/02_02_sequences.ipynb\n",
      "\tchapter2/02_03_dicts.ipynb\n",
      "\tchapter2/02_04_comprehensions.ipynb\n",
      "\tchapter2/02_05_advancedcontainers.ipynb\n",
      "Please move or remove them before you merge.\n",
      "Aborting\n"
     ]
    }
   ],
   "source": [
    "!git pull --allow-unrelated-histories \"https://github.com/yoji-toriumi/Data_Science_E\" master"
   ]
  },
  {
   "cell_type": "code",
   "execution_count": 7,
   "id": "da4b8b64-9c59-4e44-8293-1552415b7123",
   "metadata": {},
   "outputs": [
    {
     "name": "stdout",
     "output_type": "stream",
     "text": [
      "Branch 'master' set up to track remote branch 'master' from 'origin'.\n"
     ]
    },
    {
     "name": "stderr",
     "output_type": "stream",
     "text": [
      "To https://github.com/yoji-toriumi/Data_Science_E\n",
      "   5495172..8d96c3e  master -> master\n"
     ]
    }
   ],
   "source": [
    "!git push -u origin master "
   ]
  },
  {
   "cell_type": "code",
   "execution_count": null,
   "id": "2d0125e6-3966-411e-a93b-90d9fc926b65",
   "metadata": {},
   "outputs": [],
   "source": [
    "!git pull <remote> master:dev"
   ]
  }
 ],
 "metadata": {
  "kernelspec": {
   "display_name": "Python 3 (ipykernel)",
   "language": "python",
   "name": "python3"
  },
  "language_info": {
   "codemirror_mode": {
    "name": "ipython",
    "version": 3
   },
   "file_extension": ".py",
   "mimetype": "text/x-python",
   "name": "python",
   "nbconvert_exporter": "python",
   "pygments_lexer": "ipython3",
   "version": "3.9.7"
  }
 },
 "nbformat": 4,
 "nbformat_minor": 5
}
